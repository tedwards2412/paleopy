{
 "cells": [
  {
   "cell_type": "code",
   "execution_count": 1,
   "metadata": {},
   "outputs": [],
   "source": [
    "import numpy as np"
   ]
  },
  {
   "cell_type": "code",
   "execution_count": 18,
   "metadata": {},
   "outputs": [],
   "source": [
    "infile = \"raw/Hydrogen in Nchwaningite.txt\"\n",
    "outfile = \"H-Nchw.txt\""
   ]
  },
  {
   "cell_type": "code",
   "execution_count": 19,
   "metadata": {},
   "outputs": [],
   "source": [
    "N_skip = 0\n",
    "\n",
    "E_list = np.loadtxt(infile, usecols=(0,), skiprows=N_skip)\n",
    "Eunits_list = np.loadtxt(infile, usecols=(1,), dtype=str, skiprows=N_skip)\n",
    "\n",
    "for i in range(len(E_list)):\n",
    "    unit = Eunits_list[i]\n",
    "    if (unit == \"eV\"):\n",
    "        E_list[i] *= 1e-3\n",
    "    elif (unit == \"MeV\"):\n",
    "        E_list[i] *= 1e3\n",
    "        \n",
    "dEedx =  np.loadtxt(infile, usecols=(2,), skiprows=N_skip)\n",
    "dEndx =  np.loadtxt(infile, usecols=(3,), skiprows=N_skip)\n",
    "\n",
    "x_list = np.loadtxt(infile, usecols=(4,), skiprows=N_skip)\n",
    "xunits_list = np.loadtxt(infile, usecols=(5,),dtype=str,skiprows=N_skip)\n",
    "\n",
    "for i in range(len(x_list)):\n",
    "    unit = xunits_list[i]\n",
    "    if (unit == \"A\"):\n",
    "        x_list[i] *= 1e-4\n",
    "\n",
    "        \n",
    "np.savetxt(outfile, np.vstack([E_list, dEedx, dEndx, x_list]).T, header=\"Energy(keV)    dEe/dx(keV/micro_m)  dEn/dx(keV/micro_m)  x(micro_m)\")"
   ]
  },
  {
   "cell_type": "code",
   "execution_count": null,
   "metadata": {},
   "outputs": [],
   "source": []
  }
 ],
 "metadata": {
  "kernelspec": {
   "display_name": "Python 3",
   "language": "python",
   "name": "python3"
  },
  "language_info": {
   "codemirror_mode": {
    "name": "ipython",
    "version": 3
   },
   "file_extension": ".py",
   "mimetype": "text/x-python",
   "name": "python",
   "nbconvert_exporter": "python",
   "pygments_lexer": "ipython3",
   "version": "3.6.4"
  }
 },
 "nbformat": 4,
 "nbformat_minor": 2
}
